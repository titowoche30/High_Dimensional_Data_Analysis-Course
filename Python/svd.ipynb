{
 "cells": [
  {
   "cell_type": "code",
   "execution_count": 29,
   "metadata": {},
   "outputs": [],
   "source": [
    "import numpy as np \n",
    "import numpy.random as random\n",
    "import pandas as pd\n",
    "import seaborn as sns\n",
    "import matplotlib.pyplot as plt\n",
    "import numpy.linalg as linalg\n",
    "from sklearn.decomposition import TruncatedSVD\n",
    "plt.style.use('seaborn-whitegrid')"
   ]
  },
  {
   "cell_type": "code",
   "execution_count": 30,
   "metadata": {},
   "outputs": [
    {
     "data": {
      "text/plain": [
       "(2, 100)"
      ]
     },
     "execution_count": 30,
     "metadata": {},
     "output_type": "execute_result"
    }
   ],
   "source": [
    "norm = random.multivariate_normal(mean=[0,0],cov=[[1,0.95],[0.95,1]],size=100).T\n",
    "norm.shape\n"
   ]
  },
  {
   "cell_type": "code",
   "execution_count": 31,
   "metadata": {},
   "outputs": [
    {
     "data": {
      "text/plain": [
       "<matplotlib.collections.PathCollection at 0x7fbafe45b610>"
      ]
     },
     "execution_count": 31,
     "metadata": {},
     "output_type": "execute_result"
    },
    {
     "data": {
      "image/png": "[encoded data removed]",
      "text/plain": [
       "<Figure size 432x288 with 1 Axes>"
      ]
     },
     "metadata": {},
     "output_type": "display_data"
    }
   ],
   "source": [
    "plt.scatter(norm[0,:],norm[1,:])"
   ]
  },
  {
   "cell_type": "code",
   "execution_count": 43,
   "metadata": {
    "scrolled": true
   },
   "outputs": [
    {
     "data": {
      "text/html": [
       "<div>\n",
       "<style scoped>\n",
       "    .dataframe tbody tr th:only-of-type {\n",
       "        vertical-align: middle;\n",
       "    }\n",
       "\n",
       "    .dataframe tbody tr th {\n",
       "        vertical-align: top;\n",
       "    }\n",
       "\n",
       "    .dataframe thead th {\n",
       "        text-align: right;\n",
       "    }\n",
       "</style>\n",
       "<table border=\"1\" class=\"dataframe\">\n",
       "  <thead>\n",
       "    <tr style=\"text-align: right;\">\n",
       "      <th></th>\n",
       "      <th>0</th>\n",
       "      <th>1</th>\n",
       "      <th>2</th>\n",
       "      <th>3</th>\n",
       "      <th>4</th>\n",
       "      <th>5</th>\n",
       "      <th>6</th>\n",
       "      <th>7</th>\n",
       "      <th>8</th>\n",
       "      <th>9</th>\n",
       "      <th>...</th>\n",
       "      <th>7120</th>\n",
       "      <th>7121</th>\n",
       "      <th>7122</th>\n",
       "      <th>7123</th>\n",
       "      <th>7124</th>\n",
       "      <th>7125</th>\n",
       "      <th>7126</th>\n",
       "      <th>7127</th>\n",
       "      <th>7128</th>\n",
       "      <th>class</th>\n",
       "    </tr>\n",
       "  </thead>\n",
       "  <tbody>\n",
       "    <tr>\n",
       "      <th>0</th>\n",
       "      <td>-214</td>\n",
       "      <td>-153</td>\n",
       "      <td>-58</td>\n",
       "      <td>88</td>\n",
       "      <td>-295</td>\n",
       "      <td>-558</td>\n",
       "      <td>199</td>\n",
       "      <td>-176</td>\n",
       "      <td>252</td>\n",
       "      <td>206</td>\n",
       "      <td>...</td>\n",
       "      <td>511</td>\n",
       "      <td>-125</td>\n",
       "      <td>389</td>\n",
       "      <td>-37</td>\n",
       "      <td>793</td>\n",
       "      <td>329</td>\n",
       "      <td>36</td>\n",
       "      <td>191</td>\n",
       "      <td>-37</td>\n",
       "      <td>0</td>\n",
       "    </tr>\n",
       "    <tr>\n",
       "      <th>1</th>\n",
       "      <td>-139</td>\n",
       "      <td>-73</td>\n",
       "      <td>-1</td>\n",
       "      <td>283</td>\n",
       "      <td>-264</td>\n",
       "      <td>-400</td>\n",
       "      <td>-330</td>\n",
       "      <td>-168</td>\n",
       "      <td>101</td>\n",
       "      <td>74</td>\n",
       "      <td>...</td>\n",
       "      <td>837</td>\n",
       "      <td>-36</td>\n",
       "      <td>442</td>\n",
       "      <td>-17</td>\n",
       "      <td>782</td>\n",
       "      <td>295</td>\n",
       "      <td>11</td>\n",
       "      <td>76</td>\n",
       "      <td>-14</td>\n",
       "      <td>0</td>\n",
       "    </tr>\n",
       "    <tr>\n",
       "      <th>2</th>\n",
       "      <td>-76</td>\n",
       "      <td>-49</td>\n",
       "      <td>-307</td>\n",
       "      <td>309</td>\n",
       "      <td>-376</td>\n",
       "      <td>-650</td>\n",
       "      <td>33</td>\n",
       "      <td>-367</td>\n",
       "      <td>206</td>\n",
       "      <td>-215</td>\n",
       "      <td>...</td>\n",
       "      <td>1199</td>\n",
       "      <td>33</td>\n",
       "      <td>168</td>\n",
       "      <td>52</td>\n",
       "      <td>1138</td>\n",
       "      <td>777</td>\n",
       "      <td>41</td>\n",
       "      <td>228</td>\n",
       "      <td>-41</td>\n",
       "      <td>0</td>\n",
       "    </tr>\n",
       "    <tr>\n",
       "      <th>3</th>\n",
       "      <td>-135</td>\n",
       "      <td>-114</td>\n",
       "      <td>265</td>\n",
       "      <td>12</td>\n",
       "      <td>-419</td>\n",
       "      <td>-585</td>\n",
       "      <td>158</td>\n",
       "      <td>-253</td>\n",
       "      <td>49</td>\n",
       "      <td>31</td>\n",
       "      <td>...</td>\n",
       "      <td>835</td>\n",
       "      <td>218</td>\n",
       "      <td>174</td>\n",
       "      <td>-110</td>\n",
       "      <td>627</td>\n",
       "      <td>170</td>\n",
       "      <td>-50</td>\n",
       "      <td>126</td>\n",
       "      <td>-91</td>\n",
       "      <td>0</td>\n",
       "    </tr>\n",
       "    <tr>\n",
       "      <th>4</th>\n",
       "      <td>-106</td>\n",
       "      <td>-125</td>\n",
       "      <td>-76</td>\n",
       "      <td>168</td>\n",
       "      <td>-230</td>\n",
       "      <td>-284</td>\n",
       "      <td>4</td>\n",
       "      <td>-122</td>\n",
       "      <td>70</td>\n",
       "      <td>252</td>\n",
       "      <td>...</td>\n",
       "      <td>649</td>\n",
       "      <td>57</td>\n",
       "      <td>504</td>\n",
       "      <td>-26</td>\n",
       "      <td>250</td>\n",
       "      <td>314</td>\n",
       "      <td>14</td>\n",
       "      <td>56</td>\n",
       "      <td>-25</td>\n",
       "      <td>0</td>\n",
       "    </tr>\n",
       "  </tbody>\n",
       "</table>\n",
       "<p>5 rows × 7130 columns</p>\n",
       "</div>"
      ],
      "text/plain": [
       "     0    1    2    3    4    5    6    7    8    9  ...  7120  7121  7122  \\\n",
       "0 -214 -153  -58   88 -295 -558  199 -176  252  206  ...   511  -125   389   \n",
       "1 -139  -73   -1  283 -264 -400 -330 -168  101   74  ...   837   -36   442   \n",
       "2  -76  -49 -307  309 -376 -650   33 -367  206 -215  ...  1199    33   168   \n",
       "3 -135 -114  265   12 -419 -585  158 -253   49   31  ...   835   218   174   \n",
       "4 -106 -125  -76  168 -230 -284    4 -122   70  252  ...   649    57   504   \n",
       "\n",
       "   7123  7124  7125  7126  7127  7128  class  \n",
       "0   -37   793   329    36   191   -37      0  \n",
       "1   -17   782   295    11    76   -14      0  \n",
       "2    52  1138   777    41   228   -41      0  \n",
       "3  -110   627   170   -50   126   -91      0  \n",
       "4   -26   250   314    14    56   -25      0  \n",
       "\n",
       "[5 rows x 7130 columns]"
      ]
     },
     "execution_count": 43,
     "metadata": {},
     "output_type": "execute_result"
    }
   ],
   "source": [
    "df = pd.read_csv('data/clean_data.csv')\n",
    "df.head()"
   ]
  },
  {
   "cell_type": "code",
   "execution_count": 70,
   "metadata": {},
   "outputs": [],
   "source": [
    "X = df.drop('class',axis=1)"
   ]
  },
  {
   "cell_type": "code",
   "execution_count": 71,
   "metadata": {},
   "outputs": [],
   "source": [
    "X = X - X.mean() "
   ]
  },
  {
   "cell_type": "code",
   "execution_count": 72,
   "metadata": {},
   "outputs": [],
   "source": [
    "u,s,v_t=linalg.svd(X)\n",
    "diag_s = np.zeros((X.shape[0], X.shape[1]))\n",
    "diag_s[:X.shape[0], :X.shape[0]] = np.diag(s)\n"
   ]
  },
  {
   "cell_type": "code",
   "execution_count": 75,
   "metadata": {},
   "outputs": [
    {
     "data": {
      "text/plain": [
       "[<matplotlib.lines.Line2D at 0x7fbafe5b72d0>]"
      ]
     },
     "execution_count": 75,
     "metadata": {},
     "output_type": "execute_result"
    },
    {
     "data": {
      "image/png": "[encoded data removed]",
      "text/plain": [
       "<Figure size 864x576 with 1 Axes>"
      ]
     },
     "metadata": {},
     "output_type": "display_data"
    }
   ],
   "source": [
    "explained_variance = (s*s)/s.dot(s)\n",
    "\n",
    "plt.figure(figsize=(12,8))\n",
    "plt.title('Explained Variance',size='xx-large')\n",
    "plt.xlabel('Column',size='x-large')\n",
    "plt.xticks(size='large')\n",
    "plt.ylabel('Proportional Variance',size='x-large')\n",
    "plt.yticks(size='large')\n",
    "plt.plot(explained_variance,marker='o',markerfacecolor='red')"
   ]
  },
  {
   "cell_type": "code",
   "execution_count": 77,
   "metadata": {},
   "outputs": [
    {
     "data": {
      "image/png": "[encoded data removed]",
      "text/plain": [
       "<Figure size 864x576 with 1 Axes>"
      ]
     },
     "metadata": {},
     "output_type": "display_data"
    }
   ],
   "source": [
    "plt.figure(figsize=(12,8))\n",
    "plt.title('Cumulative Explained Variance',size='xx-large')\n",
    "plt.xlabel('Column',size='x-large')\n",
    "plt.xticks(size='large')\n",
    "plt.ylabel('Proportional Variance',size='x-large')\n",
    "plt.yticks(size='large')\n",
    "plt.bar(range(len(s)),explained_variance.cumsum(),alpha=.7)\n",
    "plt.show()"
   ]
  },
  {
   "cell_type": "code",
   "execution_count": null,
   "metadata": {},
   "outputs": [],
   "source": [
    "# Deixando a matriz com de fato n_col colunas"
   ]
  },
  {
   "cell_type": "code",
   "execution_count": 78,
   "metadata": {},
   "outputs": [
    {
     "data": {
      "text/plain": [
       "(38, 10)"
      ]
     },
     "execution_count": 78,
     "metadata": {},
     "output_type": "execute_result"
    }
   ],
   "source": [
    "#Projeção com n_col da matriz \n",
    "n_col = 10\n",
    "df_n_col = u.dot(diag_s[:,:n_col])\n",
    "df_n_col.shape"
   ]
  },
  {
   "cell_type": "code",
   "execution_count": 79,
   "metadata": {},
   "outputs": [
    {
     "data": {
      "text/html": [
       "<div>\n",
       "<style scoped>\n",
       "    .dataframe tbody tr th:only-of-type {\n",
       "        vertical-align: middle;\n",
       "    }\n",
       "\n",
       "    .dataframe tbody tr th {\n",
       "        vertical-align: top;\n",
       "    }\n",
       "\n",
       "    .dataframe thead th {\n",
       "        text-align: right;\n",
       "    }\n",
       "</style>\n",
       "<table border=\"1\" class=\"dataframe\">\n",
       "  <thead>\n",
       "    <tr style=\"text-align: right;\">\n",
       "      <th></th>\n",
       "      <th>0</th>\n",
       "      <th>1</th>\n",
       "      <th>2</th>\n",
       "      <th>3</th>\n",
       "      <th>4</th>\n",
       "      <th>5</th>\n",
       "      <th>6</th>\n",
       "      <th>7</th>\n",
       "      <th>8</th>\n",
       "      <th>9</th>\n",
       "    </tr>\n",
       "  </thead>\n",
       "  <tbody>\n",
       "    <tr>\n",
       "      <th>0</th>\n",
       "      <td>-4120.321492</td>\n",
       "      <td>8435.742895</td>\n",
       "      <td>13944.166777</td>\n",
       "      <td>-25981.651362</td>\n",
       "      <td>10771.034405</td>\n",
       "      <td>-1460.792850</td>\n",
       "      <td>9498.853332</td>\n",
       "      <td>-5435.693758</td>\n",
       "      <td>2877.465449</td>\n",
       "      <td>-9758.533294</td>\n",
       "    </tr>\n",
       "    <tr>\n",
       "      <th>1</th>\n",
       "      <td>18628.359789</td>\n",
       "      <td>14407.823800</td>\n",
       "      <td>-16617.745275</td>\n",
       "      <td>-2038.229406</td>\n",
       "      <td>-10628.290282</td>\n",
       "      <td>-13437.809582</td>\n",
       "      <td>-1633.589711</td>\n",
       "      <td>-26398.952376</td>\n",
       "      <td>-11867.073996</td>\n",
       "      <td>2607.447955</td>\n",
       "    </tr>\n",
       "    <tr>\n",
       "      <th>2</th>\n",
       "      <td>-15823.873167</td>\n",
       "      <td>14048.426842</td>\n",
       "      <td>-47332.062728</td>\n",
       "      <td>-16064.219011</td>\n",
       "      <td>-22913.562415</td>\n",
       "      <td>-2754.981900</td>\n",
       "      <td>8519.093320</td>\n",
       "      <td>-9422.342527</td>\n",
       "      <td>11121.992147</td>\n",
       "      <td>-1121.856054</td>\n",
       "    </tr>\n",
       "    <tr>\n",
       "      <th>3</th>\n",
       "      <td>-11292.905025</td>\n",
       "      <td>4527.380259</td>\n",
       "      <td>9426.726478</td>\n",
       "      <td>-15440.938260</td>\n",
       "      <td>-1014.753543</td>\n",
       "      <td>-1197.696040</td>\n",
       "      <td>-9516.229146</td>\n",
       "      <td>8010.573874</td>\n",
       "      <td>3470.818421</td>\n",
       "      <td>-18020.599326</td>\n",
       "    </tr>\n",
       "    <tr>\n",
       "      <th>4</th>\n",
       "      <td>6317.945887</td>\n",
       "      <td>20260.768492</td>\n",
       "      <td>4576.834579</td>\n",
       "      <td>8993.495133</td>\n",
       "      <td>17438.376473</td>\n",
       "      <td>13422.225115</td>\n",
       "      <td>-10983.445819</td>\n",
       "      <td>2387.957548</td>\n",
       "      <td>4971.678932</td>\n",
       "      <td>-10707.422239</td>\n",
       "    </tr>\n",
       "  </tbody>\n",
       "</table>\n",
       "</div>"
      ],
      "text/plain": [
       "              0             1             2             3             4  \\\n",
       "0  -4120.321492   8435.742895  13944.166777 -25981.651362  10771.034405   \n",
       "1  18628.359789  14407.823800 -16617.745275  -2038.229406 -10628.290282   \n",
       "2 -15823.873167  14048.426842 -47332.062728 -16064.219011 -22913.562415   \n",
       "3 -11292.905025   4527.380259   9426.726478 -15440.938260  -1014.753543   \n",
       "4   6317.945887  20260.768492   4576.834579   8993.495133  17438.376473   \n",
       "\n",
       "              5             6             7             8             9  \n",
       "0  -1460.792850   9498.853332  -5435.693758   2877.465449  -9758.533294  \n",
       "1 -13437.809582  -1633.589711 -26398.952376 -11867.073996   2607.447955  \n",
       "2  -2754.981900   8519.093320  -9422.342527  11121.992147  -1121.856054  \n",
       "3  -1197.696040  -9516.229146   8010.573874   3470.818421 -18020.599326  \n",
       "4  13422.225115 -10983.445819   2387.957548   4971.678932 -10707.422239  "
      ]
     },
     "execution_count": 79,
     "metadata": {},
     "output_type": "execute_result"
    }
   ],
   "source": [
    "pd.DataFrame(df_n_col).head()"
   ]
  },
  {
   "cell_type": "code",
   "execution_count": 80,
   "metadata": {},
   "outputs": [
    {
     "data": {
      "text/plain": [
       "(38, 10)"
      ]
     },
     "execution_count": 80,
     "metadata": {},
     "output_type": "execute_result"
    }
   ],
   "source": [
    "#Projeção com n_col da matriz \n",
    "df_n_col2 = X.dot(v_t[:n_col,:].T)\n",
    "df_n_col2.shape"
   ]
  },
  {
   "cell_type": "code",
   "execution_count": 81,
   "metadata": {},
   "outputs": [
    {
     "data": {
      "text/html": [
       "<div>\n",
       "<style scoped>\n",
       "    .dataframe tbody tr th:only-of-type {\n",
       "        vertical-align: middle;\n",
       "    }\n",
       "\n",
       "    .dataframe tbody tr th {\n",
       "        vertical-align: top;\n",
       "    }\n",
       "\n",
       "    .dataframe thead th {\n",
       "        text-align: right;\n",
       "    }\n",
       "</style>\n",
       "<table border=\"1\" class=\"dataframe\">\n",
       "  <thead>\n",
       "    <tr style=\"text-align: right;\">\n",
       "      <th></th>\n",
       "      <th>0</th>\n",
       "      <th>1</th>\n",
       "      <th>2</th>\n",
       "      <th>3</th>\n",
       "      <th>4</th>\n",
       "      <th>5</th>\n",
       "      <th>6</th>\n",
       "      <th>7</th>\n",
       "      <th>8</th>\n",
       "      <th>9</th>\n",
       "    </tr>\n",
       "  </thead>\n",
       "  <tbody>\n",
       "    <tr>\n",
       "      <th>0</th>\n",
       "      <td>-4120.321492</td>\n",
       "      <td>8435.742895</td>\n",
       "      <td>13944.166777</td>\n",
       "      <td>-25981.651362</td>\n",
       "      <td>10771.034405</td>\n",
       "      <td>-1460.792850</td>\n",
       "      <td>9498.853332</td>\n",
       "      <td>-5435.693758</td>\n",
       "      <td>2877.465449</td>\n",
       "      <td>-9758.533294</td>\n",
       "    </tr>\n",
       "    <tr>\n",
       "      <th>1</th>\n",
       "      <td>18628.359789</td>\n",
       "      <td>14407.823800</td>\n",
       "      <td>-16617.745275</td>\n",
       "      <td>-2038.229406</td>\n",
       "      <td>-10628.290282</td>\n",
       "      <td>-13437.809582</td>\n",
       "      <td>-1633.589711</td>\n",
       "      <td>-26398.952376</td>\n",
       "      <td>-11867.073996</td>\n",
       "      <td>2607.447955</td>\n",
       "    </tr>\n",
       "    <tr>\n",
       "      <th>2</th>\n",
       "      <td>-15823.873167</td>\n",
       "      <td>14048.426842</td>\n",
       "      <td>-47332.062728</td>\n",
       "      <td>-16064.219011</td>\n",
       "      <td>-22913.562415</td>\n",
       "      <td>-2754.981900</td>\n",
       "      <td>8519.093320</td>\n",
       "      <td>-9422.342527</td>\n",
       "      <td>11121.992147</td>\n",
       "      <td>-1121.856054</td>\n",
       "    </tr>\n",
       "    <tr>\n",
       "      <th>3</th>\n",
       "      <td>-11292.905025</td>\n",
       "      <td>4527.380259</td>\n",
       "      <td>9426.726478</td>\n",
       "      <td>-15440.938260</td>\n",
       "      <td>-1014.753543</td>\n",
       "      <td>-1197.696040</td>\n",
       "      <td>-9516.229146</td>\n",
       "      <td>8010.573874</td>\n",
       "      <td>3470.818421</td>\n",
       "      <td>-18020.599326</td>\n",
       "    </tr>\n",
       "    <tr>\n",
       "      <th>4</th>\n",
       "      <td>6317.945887</td>\n",
       "      <td>20260.768492</td>\n",
       "      <td>4576.834579</td>\n",
       "      <td>8993.495133</td>\n",
       "      <td>17438.376473</td>\n",
       "      <td>13422.225115</td>\n",
       "      <td>-10983.445819</td>\n",
       "      <td>2387.957548</td>\n",
       "      <td>4971.678932</td>\n",
       "      <td>-10707.422239</td>\n",
       "    </tr>\n",
       "  </tbody>\n",
       "</table>\n",
       "</div>"
      ],
      "text/plain": [
       "              0             1             2             3             4  \\\n",
       "0  -4120.321492   8435.742895  13944.166777 -25981.651362  10771.034405   \n",
       "1  18628.359789  14407.823800 -16617.745275  -2038.229406 -10628.290282   \n",
       "2 -15823.873167  14048.426842 -47332.062728 -16064.219011 -22913.562415   \n",
       "3 -11292.905025   4527.380259   9426.726478 -15440.938260  -1014.753543   \n",
       "4   6317.945887  20260.768492   4576.834579   8993.495133  17438.376473   \n",
       "\n",
       "              5             6             7             8             9  \n",
       "0  -1460.792850   9498.853332  -5435.693758   2877.465449  -9758.533294  \n",
       "1 -13437.809582  -1633.589711 -26398.952376 -11867.073996   2607.447955  \n",
       "2  -2754.981900   8519.093320  -9422.342527  11121.992147  -1121.856054  \n",
       "3  -1197.696040  -9516.229146   8010.573874   3470.818421 -18020.599326  \n",
       "4  13422.225115 -10983.445819   2387.957548   4971.678932 -10707.422239  "
      ]
     },
     "execution_count": 81,
     "metadata": {},
     "output_type": "execute_result"
    }
   ],
   "source": [
    "pd.DataFrame(df_n_col2).head()"
   ]
  },
  {
   "cell_type": "code",
   "execution_count": 82,
   "metadata": {},
   "outputs": [
    {
     "data": {
      "text/plain": [
       "4.5594783143549426e-10"
      ]
     },
     "execution_count": 82,
     "metadata": {},
     "output_type": "execute_result"
    }
   ],
   "source": [
    "linalg.norm(df_n_col-df_n_col2)"
   ]
  },
  {
   "cell_type": "markdown",
   "metadata": {},
   "source": [
    "# Comparando com Truncated-SVD do sklearn"
   ]
  },
  {
   "cell_type": "code",
   "execution_count": 83,
   "metadata": {},
   "outputs": [],
   "source": [
    "t_svd = TruncatedSVD(n_components=n_col)\n",
    "df_n_col_tsvd = t_svd.fit_transform(X)"
   ]
  },
  {
   "cell_type": "code",
   "execution_count": 84,
   "metadata": {},
   "outputs": [
    {
     "data": {
      "text/html": [
       "<div>\n",
       "<style scoped>\n",
       "    .dataframe tbody tr th:only-of-type {\n",
       "        vertical-align: middle;\n",
       "    }\n",
       "\n",
       "    .dataframe tbody tr th {\n",
       "        vertical-align: top;\n",
       "    }\n",
       "\n",
       "    .dataframe thead th {\n",
       "        text-align: right;\n",
       "    }\n",
       "</style>\n",
       "<table border=\"1\" class=\"dataframe\">\n",
       "  <thead>\n",
       "    <tr style=\"text-align: right;\">\n",
       "      <th></th>\n",
       "      <th>0</th>\n",
       "      <th>1</th>\n",
       "      <th>2</th>\n",
       "      <th>3</th>\n",
       "      <th>4</th>\n",
       "      <th>5</th>\n",
       "      <th>6</th>\n",
       "      <th>7</th>\n",
       "      <th>8</th>\n",
       "      <th>9</th>\n",
       "    </tr>\n",
       "  </thead>\n",
       "  <tbody>\n",
       "    <tr>\n",
       "      <th>0</th>\n",
       "      <td>-4120.323059</td>\n",
       "      <td>8435.750597</td>\n",
       "      <td>-13944.159199</td>\n",
       "      <td>-25981.691746</td>\n",
       "      <td>-10771.078845</td>\n",
       "      <td>1464.893147</td>\n",
       "      <td>9485.296810</td>\n",
       "      <td>5433.185798</td>\n",
       "      <td>2898.193681</td>\n",
       "      <td>-9772.858492</td>\n",
       "    </tr>\n",
       "    <tr>\n",
       "      <th>1</th>\n",
       "      <td>18628.359135</td>\n",
       "      <td>14407.827877</td>\n",
       "      <td>16617.759551</td>\n",
       "      <td>-2038.463741</td>\n",
       "      <td>10628.219389</td>\n",
       "      <td>13445.182464</td>\n",
       "      <td>-1658.663566</td>\n",
       "      <td>26334.658014</td>\n",
       "      <td>-11810.790178</td>\n",
       "      <td>2547.778053</td>\n",
       "    </tr>\n",
       "    <tr>\n",
       "      <th>2</th>\n",
       "      <td>-15823.874117</td>\n",
       "      <td>14048.423828</td>\n",
       "      <td>47332.039097</td>\n",
       "      <td>-16064.336730</td>\n",
       "      <td>22913.875844</td>\n",
       "      <td>2754.386233</td>\n",
       "      <td>8509.676230</td>\n",
       "      <td>9425.395206</td>\n",
       "      <td>11125.547696</td>\n",
       "      <td>-1190.568367</td>\n",
       "    </tr>\n",
       "    <tr>\n",
       "      <th>3</th>\n",
       "      <td>-11292.904897</td>\n",
       "      <td>4527.381216</td>\n",
       "      <td>-9426.723686</td>\n",
       "      <td>-15441.112491</td>\n",
       "      <td>1015.143268</td>\n",
       "      <td>1200.964945</td>\n",
       "      <td>-9528.508704</td>\n",
       "      <td>-8033.825930</td>\n",
       "      <td>3512.984887</td>\n",
       "      <td>-18064.996665</td>\n",
       "    </tr>\n",
       "    <tr>\n",
       "      <th>4</th>\n",
       "      <td>6317.946612</td>\n",
       "      <td>20260.771535</td>\n",
       "      <td>-4576.822810</td>\n",
       "      <td>8993.442757</td>\n",
       "      <td>-17437.997383</td>\n",
       "      <td>-13419.628608</td>\n",
       "      <td>-10992.801916</td>\n",
       "      <td>-2412.345811</td>\n",
       "      <td>5019.057696</td>\n",
       "      <td>-10687.169374</td>\n",
       "    </tr>\n",
       "  </tbody>\n",
       "</table>\n",
       "</div>"
      ],
      "text/plain": [
       "              0             1             2             3             4  \\\n",
       "0  -4120.323059   8435.750597 -13944.159199 -25981.691746 -10771.078845   \n",
       "1  18628.359135  14407.827877  16617.759551  -2038.463741  10628.219389   \n",
       "2 -15823.874117  14048.423828  47332.039097 -16064.336730  22913.875844   \n",
       "3 -11292.904897   4527.381216  -9426.723686 -15441.112491   1015.143268   \n",
       "4   6317.946612  20260.771535  -4576.822810   8993.442757 -17437.997383   \n",
       "\n",
       "              5             6             7             8             9  \n",
       "0   1464.893147   9485.296810   5433.185798   2898.193681  -9772.858492  \n",
       "1  13445.182464  -1658.663566  26334.658014 -11810.790178   2547.778053  \n",
       "2   2754.386233   8509.676230   9425.395206  11125.547696  -1190.568367  \n",
       "3   1200.964945  -9528.508704  -8033.825930   3512.984887 -18064.996665  \n",
       "4 -13419.628608 -10992.801916  -2412.345811   5019.057696 -10687.169374  "
      ]
     },
     "execution_count": 84,
     "metadata": {},
     "output_type": "execute_result"
    }
   ],
   "source": [
    "pd.DataFrame(df_n_col_tsvd).head()"
   ]
  }
 ],
 "metadata": {
  "kernelspec": {
   "display_name": "Python 3",
   "language": "python",
   "name": "python3"
  },
  "language_info": {
   "codemirror_mode": {
    "name": "ipython",
    "version": 3
   },
   "file_extension": ".py",
   "mimetype": "text/x-python",
   "name": "python",
   "nbconvert_exporter": "python",
   "pygments_lexer": "ipython3",
   "version": "3.7.6"
  }
 },
 "nbformat": 4,
 "nbformat_minor": 4
}
